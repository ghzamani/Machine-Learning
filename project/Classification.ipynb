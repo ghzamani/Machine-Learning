{
 "cells": [
  {
   "cell_type": "code",
   "execution_count": 1,
   "metadata": {},
   "outputs": [],
   "source": [
    "import pandas as pd\n",
    "from sklearn.model_selection import cross_val_score, cross_val_predict\n",
    "from sklearn.metrics import classification_report\n",
    "import numpy as np\n",
    "from sklearn.model_selection import StratifiedKFold, cross_val_score, cross_val_predict\n",
    "\n",
    "from sklearn.model_selection import train_test_split\n",
    "from sklearn.naive_bayes import GaussianNB\n",
    "from sklearn.svm import SVC\n",
    "from sklearn.metrics import classification_report\n",
    "import numpy as np\n",
    "\n",
    "from sklearn.preprocessing import StandardScaler"
   ]
  },
  {
   "cell_type": "code",
   "execution_count": 2,
   "metadata": {},
   "outputs": [],
   "source": [
    "df = pd.read_pickle('features.csv')\n",
    "df['mean_features'] = df['features'].apply(lambda x: np.mean(x, axis=1))"
   ]
  },
  {
   "cell_type": "code",
   "execution_count": 3,
   "metadata": {},
   "outputs": [
    {
     "name": "stderr",
     "output_type": "stream",
     "text": [
      "/tmp/ipykernel_43939/112978659.py:1: FutureWarning: Downcasting behavior in `replace` is deprecated and will be removed in a future version. To retain the old behavior, explicitly call `result.infer_objects(copy=False)`. To opt-in to the future behavior, set `pd.set_option('future.no_silent_downcasting', True)`\n",
      "  df['gender'] = df['gender'].replace(['male', 'male ', 'مرد'], 1).replace(['female', 'Female'], 0)\n"
     ]
    }
   ],
   "source": [
    "df['gender'] = df['gender'].replace(['male', 'male ', 'مرد'], 1).replace(['female', 'Female'], 0)\n",
    "X = np.array(df.iloc[:, -1].tolist())\n",
    "y = np.array(df['gender'])\n",
    "X_train, X_test, y_train, y_test = train_test_split(X, y, random_state=1000, test_size=0.25, stratify=y)\n",
    "# X_train = StandardScaler().fit(X_train).transform(X_train)\n",
    "# X_test = StandardScaler().fit(X_train).transform(X_test)\n",
    "\n"
   ]
  },
  {
   "cell_type": "code",
   "execution_count": 4,
   "metadata": {},
   "outputs": [
    {
     "name": "stdout",
     "output_type": "stream",
     "text": [
      "Label distribution in the whole dataset:\n",
      "[0.21880172 0.78119828]\n",
      "Label distribution in the training set:\n",
      "[0.21871552 0.78128448]\n",
      "Label distribution in the test set:\n",
      "[0.21906023 0.78093977]\n"
     ]
    }
   ],
   "source": [
    "print(\"Label distribution in the whole dataset:\")\n",
    "print(np.bincount(y) / len(y))\n",
    "\n",
    "print(\"Label distribution in the training set:\")\n",
    "print(np.bincount(y_train) / len(y_train))\n",
    "\n",
    "print(\"Label distribution in the test set:\")\n",
    "print(np.bincount(y_test) / len(y_test))"
   ]
  },
  {
   "cell_type": "code",
   "execution_count": 5,
   "metadata": {},
   "outputs": [],
   "source": [
    "from imblearn.over_sampling import SMOTE\n",
    "\n",
    "smote = SMOTE(random_state=42)\n",
    "X_train, y_train = smote.fit_resample(X_train, y_train)"
   ]
  },
  {
   "cell_type": "code",
   "execution_count": 6,
   "metadata": {},
   "outputs": [],
   "source": [
    "# clf = GaussianNB().fit(X_train, y_train)\n",
    "\n",
    "# p_test = clf.predict(X_test)\n",
    "\n",
    "# print(classification_report(y_test, p_test))"
   ]
  },
  {
   "cell_type": "code",
   "execution_count": 7,
   "metadata": {},
   "outputs": [],
   "source": [
    "import time\n",
    "from sklearn.naive_bayes import GaussianNB\n",
    "from sklearn.metrics import confusion_matrix, roc_curve, roc_auc_score, classification_report, f1_score\n",
    "import matplotlib.pyplot as plt\n",
    "import seaborn as sns\n",
    "\n",
    "def evaluate(clf, report=True):\n",
    "    print(f'---------{type(clf).__name__}---------')\n",
    "    start_time = time.time()\n",
    "    \n",
    "    clf.fit(X_train, y_train)\n",
    "    y_pred = clf.predict(X_test)\n",
    "    \n",
    "    f1 = f1_score(y_test, y_pred, average='macro')\n",
    "    print(f'F1-score = {round(f1, 2)}')\n",
    "    \n",
    "    if report:\n",
    "        print(classification_report(y_test, y_pred))\n",
    "\n",
    "        conf_mat = confusion_matrix(y_test, y_pred)\n",
    "        sns.heatmap(conf_mat, annot=True, fmt='d')\n",
    "        plt.title('Confusion Matrix')\n",
    "        plt.show()\n",
    "\n",
    "        y_pred_prob = clf.predict_proba(X_test)[:, 1]\n",
    "\n",
    "        fpr, tpr, thresholds = roc_curve(y_test, y_pred_prob)\n",
    "        plt.plot([0, 1], [0, 1], 'k--')\n",
    "        plt.plot(fpr, tpr)\n",
    "        plt.xlabel('False Positive Rate')\n",
    "        plt.ylabel('True Positive Rate')\n",
    "        plt.title(f'ROC Curve (AUC={roc_auc_score(y_test, y_pred_prob)})')\n",
    "        plt.show()\n",
    "    \n",
    "    end_time = time.time()\n",
    "    print(f\"-- Took: {round(end_time - start_time, 3)} seconds\")\n",
    "    \n",
    "    return f1\n"
   ]
  },
  {
   "cell_type": "code",
   "execution_count": 8,
   "metadata": {},
   "outputs": [
    {
     "name": "stdout",
     "output_type": "stream",
     "text": [
      "---------GaussianNB---------\n",
      "F1-score = 0.68\n",
      "-- Took: 0.007 seconds\n",
      "---------SVC---------\n",
      "F1-score = 0.73\n",
      "-- Took: 9.649 seconds\n",
      "---------DecisionTreeClassifier---------\n",
      "F1-score = 0.92\n",
      "-- Took: 0.12 seconds\n",
      "---------RandomForestClassifier---------\n",
      "F1-score = 0.97\n",
      "-- Took: 1.759 seconds\n",
      "---------AdaBoostClassifier---------\n"
     ]
    },
    {
     "name": "stderr",
     "output_type": "stream",
     "text": [
      "/home/erfan/.local/lib/python3.10/site-packages/sklearn/ensemble/_weight_boosting.py:519: FutureWarning: The SAMME.R algorithm (the default) is deprecated and will be removed in 1.6. Use the SAMME algorithm to circumvent this warning.\n",
      "  warnings.warn(\n"
     ]
    },
    {
     "name": "stdout",
     "output_type": "stream",
     "text": [
      "F1-score = 0.86\n",
      "-- Took: 0.765 seconds\n",
      "---------GradientBoostingClassifier---------\n",
      "F1-score = 0.92\n",
      "-- Took: 3.457 seconds\n",
      "---------MLPClassifier---------\n",
      "F1-score = 0.92\n",
      "-- Took: 14.375 seconds\n"
     ]
    }
   ],
   "source": [
    "from sklearn.naive_bayes import GaussianNB\n",
    "from sklearn.svm import SVC, LinearSVC, NuSVC\n",
    "from sklearn.tree import DecisionTreeClassifier\n",
    "from sklearn.ensemble import RandomForestClassifier, AdaBoostClassifier, GradientBoostingClassifier\n",
    "from sklearn.discriminant_analysis import LinearDiscriminantAnalysis, QuadraticDiscriminantAnalysis\n",
    "from sklearn.linear_model import LogisticRegression\n",
    "from sklearn.neighbors import KNeighborsClassifier\n",
    "from sklearn.neural_network import MLPClassifier\n",
    "from sklearn.gaussian_process import GaussianProcessClassifier\n",
    "from sklearn.metrics import accuracy_score\n",
    "\n",
    "# Assuming X_train, y_train, X_test, y_test are your data\n",
    "classifiers = [\n",
    "    GaussianNB(), \n",
    "    SVC(probability=True),\n",
    "    DecisionTreeClassifier(),\n",
    "    RandomForestClassifier(),\n",
    "    AdaBoostClassifier(),\n",
    "    GradientBoostingClassifier(),\n",
    "    MLPClassifier(),\n",
    "]\n",
    "\n",
    "\n",
    "scores = [evaluate(clf, False) for clf in classifiers]\n"
   ]
  },
  {
   "cell_type": "code",
   "execution_count": null,
   "metadata": {},
   "outputs": [],
   "source": []
  }
 ],
 "metadata": {
  "kernelspec": {
   "display_name": "Python 3",
   "language": "python",
   "name": "python3"
  },
  "language_info": {
   "codemirror_mode": {
    "name": "ipython",
    "version": 3
   },
   "file_extension": ".py",
   "mimetype": "text/x-python",
   "name": "python",
   "nbconvert_exporter": "python",
   "pygments_lexer": "ipython3",
   "version": "3.10.12"
  }
 },
 "nbformat": 4,
 "nbformat_minor": 2
}
